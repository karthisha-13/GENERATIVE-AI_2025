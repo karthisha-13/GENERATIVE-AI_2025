{
  "nbformat": 4,
  "nbformat_minor": 0,
  "metadata": {
    "colab": {
      "provenance": [],
      "authorship_tag": "ABX9TyMKqbGWxjQ2gbmHxxXG/Hhc",
      "include_colab_link": true
    },
    "kernelspec": {
      "name": "python3",
      "display_name": "Python 3"
    },
    "language_info": {
      "name": "python"
    }
  },
  "cells": [
    {
      "cell_type": "markdown",
      "metadata": {
        "id": "view-in-github",
        "colab_type": "text"
      },
      "source": [
        "<a href=\"https://colab.research.google.com/github/karthisha-13/GENERATIVE-AI_2025/blob/main/2303A52099_Genrative_AI_Assignment_3.ipynb\" target=\"_parent\"><img src=\"https://colab.research.google.com/assets/colab-badge.svg\" alt=\"Open In Colab\"/></a>"
      ]
    },
    {
      "cell_type": "markdown",
      "source": [
        "1.Write Python code without using any libraries to find the value of x at which the\n",
        "function f(x) shown in equation (1) has minimum value. Consider Gradient Descent Algorithm.\n",
        "f (x) = 5x4 + 3x2 + 10"
      ],
      "metadata": {
        "id": "BpohklJQCl97"
      }
    },
    {
      "cell_type": "code",
      "execution_count": 1,
      "metadata": {
        "colab": {
          "base_uri": "https://localhost:8080/"
        },
        "id": "gZfkoNEyCHEE",
        "outputId": "6290460d-f15c-4b25-83e6-a7c9c5a633d7"
      },
      "outputs": [
        {
          "output_type": "stream",
          "name": "stdout",
          "text": [
            "The value of x at which f(x) is minimized: 1.63586104206045e-05\n",
            "Minimum value of f(x): 10.000000000802812\n"
          ]
        }
      ],
      "source": [
        "def f(x):\n",
        "    return 5 * x**4 + 3 * x**2 + 10\n",
        "\n",
        "def f_prime(x):\n",
        "    return 20 * x**3 + 6 * x\n",
        "\n",
        "def gradient_descent(learning_rate, initial_x, max_iterations, tolerance):\n",
        "    x = initial_x\n",
        "    for _ in range(max_iterations):\n",
        "        gradient = f_prime(x)\n",
        "        new_x = x - learning_rate * gradient\n",
        "        if abs(new_x - x) < tolerance:\n",
        "            break\n",
        "        x = new_x\n",
        "    return x\n",
        "\n",
        "learning_rate = 0.01\n",
        "initial_x = 1.0\n",
        "max_iterations = 10000\n",
        "tolerance = 1e-6\n",
        "\n",
        "x_min = gradient_descent(learning_rate, initial_x, max_iterations, tolerance)\n",
        "\n",
        "print(f\"The value of x at which f(x) is minimized: {x_min}\")\n",
        "print(f\"Minimum value of f(x): {f(x_min)}\")"
      ]
    },
    {
      "cell_type": "markdown",
      "source": [
        "2.write Python code without using any libraries to find the value of x and y at which the\n",
        "function g(x,y) shown in equation (2) has minimum value. Consider Gradient Descent Algorithm.\n",
        "f (x) = 3x2 + 5e−y + 10"
      ],
      "metadata": {
        "id": "fl-48RJ6CwdT"
      }
    },
    {
      "cell_type": "code",
      "source": [
        "def g(x, y):\n",
        "    return 3 * x**2 + 5 * (2.71828 ** -y) + 10\n",
        "\n",
        "def g_partial_x(x, y):\n",
        "    return 6 * x\n",
        "\n",
        "def g_partial_y(x, y):\n",
        "    return -5 * (2.71828 ** -y)\n",
        "\n",
        "def gradient_descent_2d(learning_rate, initial_x, initial_y, max_iterations, tolerance):\n",
        "    x, y = initial_x, initial_y\n",
        "    for _ in range(max_iterations):\n",
        "        gradient_x = g_partial_x(x, y)\n",
        "        gradient_y = g_partial_y(x, y)\n",
        "        new_x = x - learning_rate * gradient_x\n",
        "        new_y = y - learning_rate * gradient_y\n",
        "        if abs(new_x - x) < tolerance and abs(new_y - y) < tolerance:\n",
        "            break\n",
        "        x, y = new_x, new_y\n",
        "    return x, y\n",
        "\n",
        "learning_rate = 0.01\n",
        "initial_x = 1.0\n",
        "initial_y = 1.0\n",
        "max_iterations = 10000\n",
        "tolerance = 1e-6\n",
        "x_min, y_min = gradient_descent_2d(learning_rate, initial_x, initial_y, max_iterations, tolerance)\n",
        "\n",
        "print(f\"The values of x and y at which g(x, y) is minimized: x = {x_min}, y = {y_min}\")\n",
        "print(f\"Minimum value of g(x, y): {g(x_min, y_min)}\")"
      ],
      "metadata": {
        "colab": {
          "base_uri": "https://localhost:8080/"
        },
        "id": "CXrZJyzvCYI4",
        "outputId": "595d91a7-04a4-416e-d325-e566dd01d182"
      },
      "execution_count": 2,
      "outputs": [
        {
          "output_type": "stream",
          "name": "stdout",
          "text": [
            "The values of x and y at which g(x, y) is minimized: x = 1.8990482403275175e-269, y = 6.220293323511809\n",
            "Minimum value of g(x, y): 10.009943350656059\n"
          ]
        }
      ]
    },
    {
      "cell_type": "markdown",
      "source": [
        "3.Write Python code without using any libraries to find the value of x at which the\n",
        "sigmoid function z(x) shown in equation (3) has minimum value. Consider Gradient Descent\n",
        "Algorithm"
      ],
      "metadata": {
        "id": "7d3zuPizC5Py"
      }
    },
    {
      "cell_type": "code",
      "source": [
        "def z(x):\n",
        "    return 1 / (1 + 2.71828 ** -x)\n",
        "\n",
        "def z_prime(x):\n",
        "    sigmoid = z(x)\n",
        "    return sigmoid * (1 - sigmoid)\n",
        "def gradient_descent_sigmoid(learning_rate, initial_x, max_iterations, tolerance):\n",
        "    x = initial_x\n",
        "    for _ in range(max_iterations):\n",
        "        gradient = z_prime(x)\n",
        "        new_x = x - learning_rate * gradient\n",
        "        if abs(new_x - x) < tolerance:\n",
        "            break\n",
        "        x = new_x\n",
        "    return x\n",
        "learning_rate = 0.01\n",
        "initial_x = 1.0\n",
        "max_iterations = 10000\n",
        "tolerance = 1e-6\n",
        "\n",
        "x_min = gradient_descent_sigmoid(learning_rate, initial_x, max_iterations, tolerance)\n",
        "\n",
        "print(f\"The value of x at which z(x) is minimized: {x_min}\")\n",
        "print(f\"Minimum value of z(x): {z(x_min)}\")"
      ],
      "metadata": {
        "colab": {
          "base_uri": "https://localhost:8080/"
        },
        "id": "g9j5hitOCZc4",
        "outputId": "be418713-5880-4253-bee8-ddb0371922be"
      },
      "execution_count": 3,
      "outputs": [
        {
          "output_type": "stream",
          "name": "stdout",
          "text": [
            "The value of x at which z(x) is minimized: -4.463025511990582\n",
            "Minimum value of z(x): 0.011396100499178314\n"
          ]
        }
      ]
    },
    {
      "cell_type": "markdown",
      "source": [
        "4.Write Python code without using any libraries to find the value of optimal values of\n",
        "model parameters M and C such that the model’s Square Error Value shown in equation 4 will\n",
        "be minimum. It means model gives output close to expected output as shown in Figure 1"
      ],
      "metadata": {
        "id": "g7u6r0I5DA5n"
      }
    },
    {
      "cell_type": "code",
      "source": [
        "def square_error(expected, predicted):\n",
        "    return (expected - predicted) ** 2\n",
        "\n",
        "def gradient_m(expected, predicted, x):\n",
        "    return -2 * (expected - predicted) * x\n",
        "\n",
        "def gradient_c(expected, predicted):\n",
        "    return -2 * (expected - predicted)\n",
        "\n",
        "def gradient_descent_model(learning_rate, initial_m, initial_c, x_values, y_values, max_iterations, tolerance):\n",
        "    m, c = initial_m, initial_c\n",
        "    n = len(x_values)\n",
        "\n",
        "    for _ in range(max_iterations):\n",
        "        dm, dc = 0, 0\n",
        "        for x, y in zip(x_values, y_values):\n",
        "            predicted = m * x + c\n",
        "            dm += gradient_m(y, predicted, x)\n",
        "            dc += gradient_c(y, predicted)\n",
        "\n",
        "        dm /= n\n",
        "        dc /= n\n",
        "\n",
        "        new_m = m - learning_rate * dm\n",
        "        new_c = c - learning_rate * dc\n",
        "\n",
        "        if abs(new_m - m) < tolerance and abs(new_c - c) < tolerance:\n",
        "            break\n",
        "\n",
        "        m, c = new_m, new_c\n",
        "\n",
        "    return m, c\n",
        "\n",
        "learning_rate = 0.01\n",
        "initial_m = 0.0\n",
        "initial_c = 0.0\n",
        "x_values = [1, 2, 3, 4, 5]\n",
        "y_values = [2.2, 2.8, 4.5, 3.7, 5.5]\n",
        "max_iterations = 10000\n",
        "tolerance = 1e-6\n",
        "optimal_m, optimal_c = gradient_descent_model(learning_rate, initial_m, initial_c, x_values, y_values, max_iterations, tolerance)\n",
        "\n",
        "print(f\"The optimal values are: M = {optimal_m}, C = {optimal_c}\")"
      ],
      "metadata": {
        "colab": {
          "base_uri": "https://localhost:8080/"
        },
        "id": "kbwWu-8MCegd",
        "outputId": "c37f6257-b333-4511-bee7-46196c22c1ad"
      },
      "execution_count": 4,
      "outputs": [
        {
          "output_type": "stream",
          "name": "stdout",
          "text": [
            "The optimal values are: M = 0.7500819117776982, C = 1.4897042724920428\n"
          ]
        }
      ]
    }
  ]
}