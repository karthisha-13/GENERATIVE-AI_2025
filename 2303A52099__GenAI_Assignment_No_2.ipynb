{
  "nbformat": 4,
  "nbformat_minor": 0,
  "metadata": {
    "colab": {
      "provenance": [],
      "authorship_tag": "ABX9TyOI3XX67Z8o3m1WB/iB0YyP",
      "include_colab_link": true
    },
    "kernelspec": {
      "name": "python3",
      "display_name": "Python 3"
    },
    "language_info": {
      "name": "python"
    }
  },
  "cells": [
    {
      "cell_type": "markdown",
      "metadata": {
        "id": "view-in-github",
        "colab_type": "text"
      },
      "source": [
        "<a href=\"https://colab.research.google.com/github/karthisha-13/GENERATIVE-AI_2025/blob/main/2303A52099__GenAI_Assignment_No_2.ipynb\" target=\"_parent\"><img src=\"https://colab.research.google.com/assets/colab-badge.svg\" alt=\"Open In Colab\"/></a>"
      ]
    },
    {
      "cell_type": "markdown",
      "source": [
        "**2303A52099_ GenAI_Assignment No.2**"
      ],
      "metadata": {
        "id": "_NYxOavipSNU"
      }
    },
    {
      "cell_type": "markdown",
      "source": [
        "**QUESTION-1**"
      ],
      "metadata": {
        "id": "xfsMaNzZopXZ"
      }
    },
    {
      "cell_type": "code",
      "source": [
        "from scipy.optimize import linprog\n",
        "import numpy as np\n",
        "obj=[-6,-5]\n",
        "A=[[1,1],[3,2]]\n",
        "B=[5,12]\n",
        "bnd=[(0,float(\"inf\")),(0,float(\"inf\"))]\n",
        "opt=linprog(c=obj,A_ub=A,b_ub=B,bounds=bnd)\n",
        "chaco=np.round(opt.x)\n",
        "print(\"no of A chacolates=%0.2f\",chaco[0])\n",
        "print(\"no of B chacolates=%0.2f\",chaco[1])\n",
        "\n"
      ],
      "metadata": {
        "colab": {
          "base_uri": "https://localhost:8080/"
        },
        "id": "_Vd8_R7TiEgp",
        "outputId": "14be2ab3-c4da-40cd-f1d1-7e698aa0d4f0"
      },
      "execution_count": 1,
      "outputs": [
        {
          "output_type": "stream",
          "name": "stdout",
          "text": [
            "no of A chacolates=%0.2f 2.0\n",
            "no of B chacolates=%0.2f 3.0\n"
          ]
        }
      ]
    },
    {
      "cell_type": "markdown",
      "source": [
        "**QUESTION-2**"
      ],
      "metadata": {
        "id": "YQkyABK-o6iM"
      }
    },
    {
      "source": [
        "from scipy.optimize import linprog\n",
        "import numpy as np\n",
        "c=[-50,-120]\n",
        "a=[\n",
        "    [1,1],\n",
        "    [7000,2000],\n",
        "    [10,30]\n",
        "]\n",
        "b=[110,700000,1200]\n",
        "x_bounds =(0,None)\n",
        "y_bounds =(0,None)\n",
        "# Replace 'methods' with 'method'\n",
        "result=linprog(c,A_ub=a,b_ub=b,bounds=[x_bounds,y_bounds],method='highs') # Changed 'methods' to 'method'\n",
        "if result.success:\n",
        "  x,y=result.x\n",
        "  max_profit = -result.fun\n",
        "  print(f\"optimal hectares for wheat:{x:.2f}\")\n",
        "  print(f\"optimal hectares for barley:{y:.2f}\")\n",
        "  print(f\"maximum profit: Rs {max_profit:.2f}\")\n",
        "else:\n",
        "  print(\"no solution found\")"
      ],
      "cell_type": "code",
      "metadata": {
        "colab": {
          "base_uri": "https://localhost:8080/"
        },
        "id": "i2Qey8vzoj6J",
        "outputId": "85725408-20e3-4bf5-bb82-0d596cff530c"
      },
      "execution_count": 4,
      "outputs": [
        {
          "output_type": "stream",
          "name": "stdout",
          "text": [
            "optimal hectares for wheat:97.89\n",
            "optimal hectares for barley:7.37\n",
            "maximum profit: Rs 5778.95\n"
          ]
        }
      ]
    }
  ]
}