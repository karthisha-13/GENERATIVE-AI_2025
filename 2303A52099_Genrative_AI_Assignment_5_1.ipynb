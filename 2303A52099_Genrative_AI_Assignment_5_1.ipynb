{
  "nbformat": 4,
  "nbformat_minor": 0,
  "metadata": {
    "colab": {
      "provenance": [],
      "authorship_tag": "ABX9TyOdF+D5YvGxoBEkvFFizSJs",
      "include_colab_link": true
    },
    "kernelspec": {
      "name": "python3",
      "display_name": "Python 3"
    },
    "language_info": {
      "name": "python"
    }
  },
  "cells": [
    {
      "cell_type": "markdown",
      "metadata": {
        "id": "view-in-github",
        "colab_type": "text"
      },
      "source": [
        "<a href=\"https://colab.research.google.com/github/karthisha-13/GENERATIVE-AI_2025/blob/main/2303A52099_Genrative_AI_Assignment_5_1.ipynb\" target=\"_parent\"><img src=\"https://colab.research.google.com/assets/colab-badge.svg\" alt=\"Open In Colab\"/></a>"
      ]
    },
    {
      "cell_type": "markdown",
      "source": [
        "1.Design a multi-layer ANN architecture with one input, one hidden, and one output\n",
        "layer. Assume a linear activation function in the output layer and a sigmoid activation function\n",
        "in the hidden layer."
      ],
      "metadata": {
        "id": "z7SagB4CEpy7"
      }
    },
    {
      "cell_type": "code",
      "execution_count": 1,
      "metadata": {
        "colab": {
          "base_uri": "https://localhost:8080/"
        },
        "id": "Wsgh3bjwEeQM",
        "outputId": "5bcc1964-8662-459f-a1e0-6be6394047d7"
      },
      "outputs": [
        {
          "output_type": "stream",
          "name": "stdout",
          "text": [
            "Epoch 0, Loss: 0.025304264428775394\n",
            "Epoch 1000, Loss: 8.124409562117063e-05\n",
            "Epoch 2000, Loss: 2.2044379720456854e-05\n",
            "Epoch 3000, Loss: 6.174401547135006e-06\n",
            "Epoch 4000, Loss: 1.824492127576861e-06\n",
            "Epoch 5000, Loss: 6.199878178095454e-07\n",
            "Epoch 6000, Loss: 2.8477635887159654e-07\n",
            "Epoch 7000, Loss: 1.9122840848376214e-07\n",
            "Epoch 8000, Loss: 1.6506262982531775e-07\n",
            "Epoch 9000, Loss: 1.5771361170839927e-07\n",
            "Train MSE: 1.5562349121877175e-07\n",
            "Test MSE: 3.941965528247339e-07\n",
            "Enter x1 and x2: 0.4 0.5\n",
            "Predicted Output: 0.36119089050323105\n"
          ]
        }
      ],
      "source": [
        "import numpy as np\n",
        "def sigmoid(x):\n",
        "    return 1 / (1 + np.exp(-x))\n",
        "def sigmoid_derivative(x):\n",
        "    return x * (1 - x)\n",
        "def train_ann(X, y, hidden_neurons=2, learning_rate=0.1, epochs=10000):\n",
        "    np.random.seed(42)\n",
        "    input_neurons = X.shape[1]\n",
        "    output_neurons = 1\n",
        "    W1 = np.random.rand(input_neurons, hidden_neurons)\n",
        "    b1 = np.zeros((1, hidden_neurons))\n",
        "    W2 = np.random.rand(hidden_neurons, output_neurons)\n",
        "    b2 = np.zeros((1, output_neurons))\n",
        "\n",
        "    for epoch in range(epochs):\n",
        "        hidden_input = np.dot(X, W1) + b1\n",
        "        hidden_output = sigmoid(hidden_input)\n",
        "        final_input = np.dot(hidden_output, W2) + b2\n",
        "        final_output = final_input\n",
        "        loss = np.mean((y - final_output) ** 2)\n",
        "        error = final_output - y\n",
        "        dW2 = np.dot(hidden_output.T, error) / X.shape[0]\n",
        "        db2 = np.mean(error, axis=0)\n",
        "        hidden_error = np.dot(error, W2.T) * sigmoid_derivative(hidden_output)\n",
        "        dW1 = np.dot(X.T, hidden_error) / X.shape[0]\n",
        "        db1 = np.mean(hidden_error, axis=0)\n",
        "        W1 -= learning_rate * dW1\n",
        "        b1 -= learning_rate * db1\n",
        "        W2 -= learning_rate * dW2\n",
        "        b2 -= learning_rate * db2\n",
        "\n",
        "        if epoch % 1000 == 0:\n",
        "            print(f\"Epoch {epoch}, Loss: {loss}\")\n",
        "\n",
        "    return W1, b1, W2, b2\n",
        "\n",
        "def predict(X, W1, b1, W2, b2):\n",
        "    hidden_input = np.dot(X, W1) + b1\n",
        "    hidden_output = sigmoid(hidden_input)\n",
        "    final_input = np.dot(hidden_output, W2) + b2\n",
        "    return final_input\n",
        "train_X = np.array([[0.1, 0.2], [0.2, 0.3], [0.3, 0.4], [0.6, 0.7], [0.7, 0.8], [0.8, 0.9]])\n",
        "train_y = np.array([[0.3432], [0.3490], [0.3548], [0.3720], [0.3776], [0.3832]])\n",
        "\n",
        "W1, b1, W2, b2 = train_ann(train_X, train_y)\n",
        "\n",
        "test_X = np.array([[0.4, 0.5], [0.5, 0.6]])\n",
        "test_y = np.array([[0.3606], [0.3663]])\n",
        "\n",
        "train_predictions = predict(train_X, W1, b1, W2, b2)\n",
        "test_predictions = predict(test_X, W1, b1, W2, b2)\n",
        "\n",
        "train_mse = np.mean((train_y - train_predictions) ** 2)\n",
        "test_mse = np.mean((test_y - test_predictions) ** 2)\n",
        "\n",
        "print(f\"Train MSE: {train_mse}\")\n",
        "print(f\"Test MSE: {test_mse}\")\n",
        "\n",
        "x1, x2 = map(float, input(\"Enter x1 and x2: \").split())\n",
        "user_input = np.array([[x1, x2]])\n",
        "user_prediction = predict(user_input, W1, b1, W2, b2)\n",
        "print(f\"Predicted Output: {user_prediction[0,0]}\")\n"
      ]
    }
  ]
}